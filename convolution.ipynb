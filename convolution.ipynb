{
 "cells": [
  {
   "cell_type": "code",
   "execution_count": 22,
   "metadata": {},
   "outputs": [
    {
     "name": "stdout",
     "output_type": "stream",
     "text": [
      "Requirement already satisfied: pillow in /Users/harold.g/anaconda3/lib/python3.11/site-packages (10.2.0)\n",
      "\u001b[33mWARNING: There was an error checking the latest version of pip.\u001b[0m\u001b[33m\n",
      "\u001b[0m"
     ]
    }
   ],
   "source": [
    "\n",
    "import numpy as np\n",
    "from PIL import Image"
   ]
  },
  {
   "cell_type": "code",
   "execution_count": 23,
   "metadata": {},
   "outputs": [],
   "source": [
    "def convolution(matrix, kernel, stride=(1, 1)):\n",
    "    # Calculating the dimensions of the output matrix\n",
    "    row = (matrix.shape[0] - kernel.shape[0]) // stride[0] + 1\n",
    "    col = (matrix.shape[1] - kernel.shape[1]) // stride[1] + 1\n",
    "    filtered_matrix = np.zeros(shape=(row, col))\n",
    "    \n",
    "    # Looping through the matrix with the given stride\n",
    "    for i in range(0, row * stride[0], stride[0]):\n",
    "        for j in range(0, col * stride[1], stride[1]):\n",
    "            # Ensuring the kernel fits within the matrix boundaries\n",
    "            current = matrix[i:i + kernel.shape[0], j:j + kernel.shape[1]]\n",
    "            multiplication = np.sum(current * kernel)\n",
    "            filtered_matrix[i // stride[0], j // stride[1]] = multiplication\n",
    "    \n",
    "    return filtered_matrix"
   ]
  },
  {
   "cell_type": "markdown",
   "metadata": {},
   "source": [
    "**With matrix**"
   ]
  },
  {
   "cell_type": "code",
   "execution_count": 24,
   "metadata": {},
   "outputs": [],
   "source": [
    "# Defining a 9x9 matrix with random values\n",
    "#matrix = np.random.randint(0, 100, size=(9, 9))\n",
    "#print(\"Input Matrix:\\n\", matrix)\n",
    "\n",
    "# Defining a 3x3 kernel for demonstration\n",
    "kernel_3x3 = np.array([[-1, -1, -1],\n",
    "                       [-1, 0, -1],\n",
    "                       [-1, -1, -1]])\n",
    "\n",
    "# Defining a 5x5 kernel for demonstration\n",
    "kernel_5x5 = np.array([[-1, -1, -1, -1, -1],\n",
    "                       [-1, -1, -1, -1, -1],\n",
    "                       [-1, -1, 0, -1, -1],\n",
    "                       [-1, -1, -1, -1, -1],\n",
    "                       [-1, -1, -1, -1, -1]])"
   ]
  },
  {
   "cell_type": "markdown",
   "metadata": {},
   "source": [
    "**With real Image**"
   ]
  },
  {
   "cell_type": "code",
   "execution_count": 25,
   "metadata": {},
   "outputs": [],
   "source": [
    "# Loading an image and convert it to grayscale\n",
    "# Download the image\n",
    "url = \"https://pluspng.com/img-png/png-person-walking-2-person-3-person-1704.png\"\n",
    "response = requests.get(url)\n",
    "#image_path = 'images/shutterstock_124681555-1869579152.jpg' # Replace with your image path\n",
    "#image = Image.open(image_path).convert('L')\n",
    "\n",
    "image = Image.open(BytesIO(response.content)).convert('L')\n",
    "\n",
    "\n",
    "# Convert the image to a numpy array\n",
    "matrix = np.array(image)\n"
   ]
  },
  {
   "cell_type": "code",
   "execution_count": 26,
   "metadata": {},
   "outputs": [
    {
     "name": "stdout",
     "output_type": "stream",
     "text": [
      "3x3 Kernel with 1x1 Stride:\n",
      " [[-417. -418. -420. ... -833. -837. -842.]\n",
      " [-423. -422. -420. ... -828. -832. -837.]\n",
      " [-427. -426. -421. ... -831. -834. -839.]\n",
      " ...\n",
      " [-545. -542. -536. ... -421. -418. -417.]\n",
      " [-554. -548. -536. ... -420. -419. -419.]\n",
      " [-553. -549. -541. ... -420. -421. -421.]]\n",
      "\n",
      "3x3 Kernel with 2x2 Stride:\n",
      " [[-417. -420. -422. ... -842. -833. -837.]\n",
      " [-427. -421. -414. ... -839. -831. -834.]\n",
      " [-423. -420. -418. ... -848. -839. -843.]\n",
      " ...\n",
      " [-518. -524. -529. ... -422. -414. -418.]\n",
      " [-539. -532. -541. ... -422. -420. -418.]\n",
      " [-554. -536. -548. ... -421. -420. -419.]]\n",
      "\n"
     ]
    }
   ],
   "source": [
    "\n",
    "# Performing convolution with a stride of 1x1\n",
    "filtered_matrix_3x3_stride_1 = convolution(matrix, kernel_3x3, stride=(1, 1))\n",
    "print(\"3x3 Kernel with 1x1 Stride:\\n\", filtered_matrix_3x3_stride_1)\n",
    "print()\n",
    "\n",
    "# Performing convolution with a stride of 2x2\n",
    "filtered_matrix_3x3_stride_2 = convolution(matrix, kernel_3x3, stride=(2, 2))\n",
    "print(\"3x3 Kernel with 2x2 Stride:\\n\", filtered_matrix_3x3_stride_2)\n",
    "print()"
   ]
  },
  {
   "cell_type": "code",
   "execution_count": 27,
   "metadata": {},
   "outputs": [
    {
     "name": "stdout",
     "output_type": "stream",
     "text": [
      "5x5 Kernel with 1x1 Stride:\n",
      " [[-1263. -1261. -1259. ... -2508. -2508. -2516.]\n",
      " [-1268. -1263. -1257. ... -2508. -2508. -2515.]\n",
      " [-1268. -1263. -1257. ... -2509. -2509. -2516.]\n",
      " ...\n",
      " [-1600. -1607. -1611. ... -1259. -1257. -1256.]\n",
      " [-1613. -1624. -1627. ... -1260. -1260. -1259.]\n",
      " [-1624. -1635. -1637. ... -1261. -1262. -1261.]]\n",
      "\n",
      "5x5 Kernel with 2x2 Stride:\n",
      " [[-1263. -1259. -1249. ... -2526. -2516. -2508.]\n",
      " [-1268. -1257. -1244. ... -2538. -2516. -2509.]\n",
      " [-1274. -1276. -1269. ... -2535. -2521. -2503.]\n",
      " ...\n",
      " [-1560. -1574. -1601. ... -1308. -1254. -1246.]\n",
      " [-1583. -1595. -1620. ... -1290. -1260. -1255.]\n",
      " [-1613. -1627. -1639. ... -1275. -1261. -1260.]]\n"
     ]
    }
   ],
   "source": [
    "# Performing convolution with a stride of 1x1\n",
    "filtered_matrix_5x5_stride_1 = convolution(matrix, kernel_5x5, stride=(1, 1))\n",
    "print(\"5x5 Kernel with 1x1 Stride:\\n\", filtered_matrix_5x5_stride_1)\n",
    "print()\n",
    "\n",
    "# Performing convolution with a stride of 2x2\n",
    "filtered_matrix_5x5_stride_2 = convolution(matrix, kernel_5x5, stride=(2, 2))\n",
    "print(\"5x5 Kernel with 2x2 Stride:\\n\", filtered_matrix_5x5_stride_2)"
   ]
  }
 ],
 "metadata": {
  "kernelspec": {
   "display_name": "base",
   "language": "python",
   "name": "python3"
  },
  "language_info": {
   "codemirror_mode": {
    "name": "ipython",
    "version": 3
   },
   "file_extension": ".py",
   "mimetype": "text/x-python",
   "name": "python",
   "nbconvert_exporter": "python",
   "pygments_lexer": "ipython3",
   "version": "3.11.5"
  }
 },
 "nbformat": 4,
 "nbformat_minor": 2
}
