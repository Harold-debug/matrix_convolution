{
 "cells": [
  {
   "cell_type": "code",
   "execution_count": 1,
   "metadata": {},
   "outputs": [],
   "source": [
    "import numpy as np"
   ]
  },
  {
   "cell_type": "code",
   "execution_count": 2,
   "metadata": {},
   "outputs": [],
   "source": [
    "def convolution(matrix, kernel):\n",
    "    row = matrix.shape[0] - len(kernel) + 1\n",
    "    col = matrix.shape[1] - len(kernel[0]) + 1\n",
    "    filtered_matrix = np.zeros(shape=(row, col))\n",
    "    for i in range(row):\n",
    "        for j in range(col):\n",
    "            current = matrix[i:i + len(kernel), j:j + len(kernel[0])]\n",
    "            multiplication = np.sum(current * kernel)\n",
    "            filtered_matrix[i, j] = multiplication\n",
    "    return filtered_matrix"
   ]
  },
  {
   "cell_type": "code",
   "execution_count": 3,
   "metadata": {},
   "outputs": [],
   "source": [
    "# Define a 5x5 matrix for demonstration\n",
    "matrix = np.array([[1, 2, 3, 4, 5],\n",
    "                   [6, 7, 8, 9, 10],\n",
    "                   [11, 12, 13, 14, 15],\n",
    "                   [16, 17, 18, 19, 20],\n",
    "                   [21, 22, 23, 24, 25]])\n",
    "\n",
    "# Define a kernel for convolution\n",
    "kernel = np.array([[-1, -1, -1],\n",
    "                   [-1, 0, -1],\n",
    "                   [-1, -1, -1]])"
   ]
  },
  {
   "cell_type": "code",
   "execution_count": 4,
   "metadata": {},
   "outputs": [
    {
     "name": "stdout",
     "output_type": "stream",
     "text": [
      "[[ -56.  -64.  -72.]\n",
      " [ -96. -104. -112.]\n",
      " [-136. -144. -152.]]\n"
     ]
    }
   ],
   "source": [
    "\n",
    "filtered_matrix = convolution(matrix, kernel)\n",
    "\n",
    "print(filtered_matrix)"
   ]
  }
 ],
 "metadata": {
  "kernelspec": {
   "display_name": "base",
   "language": "python",
   "name": "python3"
  },
  "language_info": {
   "codemirror_mode": {
    "name": "ipython",
    "version": 3
   },
   "file_extension": ".py",
   "mimetype": "text/x-python",
   "name": "python",
   "nbconvert_exporter": "python",
   "pygments_lexer": "ipython3",
   "version": "3.11.5"
  }
 },
 "nbformat": 4,
 "nbformat_minor": 2
}
