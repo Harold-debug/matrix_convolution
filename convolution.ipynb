{
 "cells": [
  {
   "cell_type": "code",
   "execution_count": 13,
   "metadata": {},
   "outputs": [],
   "source": [
    "import numpy as np"
   ]
  },
  {
   "cell_type": "code",
   "execution_count": 14,
   "metadata": {},
   "outputs": [],
   "source": [
    "def convolution(matrix, kernel, stride=(1, 1)):\n",
    "    # Calculating the dimensions of the output matrix\n",
    "    row = (matrix.shape[0] - kernel.shape[0]) // stride[0] + 1\n",
    "    col = (matrix.shape[1] - kernel.shape[1]) // stride[1] + 1\n",
    "    filtered_matrix = np.zeros(shape=(row, col))\n",
    "    \n",
    "    # Looping through the matrix with the given stride\n",
    "    for i in range(0, row * stride[0], stride[0]):\n",
    "        for j in range(0, col * stride[1], stride[1]):\n",
    "            # Ensuring the kernel fits within the matrix boundaries\n",
    "            current = matrix[i:i + kernel.shape[0], j:j + kernel.shape[1]]\n",
    "            multiplication = np.sum(current * kernel)\n",
    "            filtered_matrix[i // stride[0], j // stride[1]] = multiplication\n",
    "    \n",
    "    return filtered_matrix"
   ]
  },
  {
   "cell_type": "code",
   "execution_count": 15,
   "metadata": {},
   "outputs": [
    {
     "name": "stdout",
     "output_type": "stream",
     "text": [
      "Input Matrix:\n",
      " [[62  0 41 38 46 80 64 21 13]\n",
      " [74 28  8 12  8 15  6 28 48]\n",
      " [33 40 80  3 27 20 25 77 36]\n",
      " [58 54 22 22 74 56 72 92 48]\n",
      " [13 54 49 57 68 49 49 41 73]\n",
      " [31 52 87 67 68  9 96 63 75]\n",
      " [82 46 48 92 33 93 58 22 24]\n",
      " [26 40 28 65 45 81  0 27 14]\n",
      " [18 19 48 22 15 21 52 82 99]]\n"
     ]
    }
   ],
   "source": [
    "# Defining a 9x9 matrix with random values\n",
    "matrix = np.random.randint(0, 100, size=(9, 9))\n",
    "print(\"Input Matrix:\\n\", matrix)\n",
    "\n",
    "# Defining a 3x3 kernel for demonstration\n",
    "kernel_3x3 = np.array([[-1, -1, -1],\n",
    "                       [-1, 0, -1],\n",
    "                       [-1, -1, -1]])\n",
    "\n",
    "# Defining a 5x5 kernel for demonstration\n",
    "kernel_5x5 = np.array([[-1, -1, -1, -1, -1],\n",
    "                       [-1, -1, -1, -1, -1],\n",
    "                       [-1, -1, 0, -1, -1],\n",
    "                       [-1, -1, -1, -1, -1],\n",
    "                       [-1, -1, -1, -1, -1]])"
   ]
  },
  {
   "cell_type": "code",
   "execution_count": 16,
   "metadata": {},
   "outputs": [
    {
     "name": "stdout",
     "output_type": "stream",
     "text": [
      "3x3 Kernel with 1x1 Stride:\n",
      " [[-338. -242. -251. -241. -276. -330. -290.]\n",
      " [-357. -189. -253. -210. -283. -366. -355.]\n",
      " [-349. -359. -380. -302. -384. -409. -421.]\n",
      " [-366. -415. -457. -402. -492. -478. -568.]\n",
      " [-410. -465. -502. -468. -514. -384. -438.]\n",
      " [-394. -477. -441. -520. -390. -391. -357.]\n",
      " [-315. -380. -331. -422. -317. -436. -351.]]\n",
      "\n",
      "3x3 Kernel with 2x2 Stride:\n",
      " [[-338. -251. -276. -290.]\n",
      " [-349. -380. -384. -421.]\n",
      " [-410. -502. -514. -438.]\n",
      " [-315. -331. -317. -351.]]\n",
      "\n",
      "5x5 Kernel with 1x1 Stride:\n",
      " [[ -891.  -948.  -964. -1030. -1111.]\n",
      " [-1067. -1007.  -975. -1048. -1151.]\n",
      " [-1211. -1213. -1256. -1284. -1299.]\n",
      " [-1194. -1292. -1320. -1390. -1234.]\n",
      " [-1125. -1164. -1267. -1182. -1199.]]\n",
      "\n",
      "5x5 Kernel with 2x2 Stride:\n",
      " [[ -891.  -964. -1111.]\n",
      " [-1211. -1256. -1299.]\n",
      " [-1125. -1267. -1199.]]\n"
     ]
    }
   ],
   "source": [
    "\n",
    "# Performing convolution with a stride of 1x1\n",
    "filtered_matrix_3x3_stride_1 = convolution(matrix, kernel_3x3, stride=(1, 1))\n",
    "print(\"3x3 Kernel with 1x1 Stride:\\n\", filtered_matrix_3x3_stride_1)\n",
    "print()\n",
    "\n",
    "# Performing convolution with a stride of 2x2\n",
    "filtered_matrix_3x3_stride_2 = convolution(matrix, kernel_3x3, stride=(2, 2))\n",
    "print(\"3x3 Kernel with 2x2 Stride:\\n\", filtered_matrix_3x3_stride_2)\n",
    "print()\n",
    "\n",
    "# Performing convolution with a stride of 1x1\n",
    "filtered_matrix_5x5_stride_1 = convolution(matrix, kernel_5x5, stride=(1, 1))\n",
    "print(\"5x5 Kernel with 1x1 Stride:\\n\", filtered_matrix_5x5_stride_1)\n",
    "print()\n",
    "\n",
    "# Performing convolution with a stride of 2x2\n",
    "filtered_matrix_5x5_stride_2 = convolution(matrix, kernel_5x5, stride=(2, 2))\n",
    "print(\"5x5 Kernel with 2x2 Stride:\\n\", filtered_matrix_5x5_stride_2)"
   ]
  }
 ],
 "metadata": {
  "kernelspec": {
   "display_name": "base",
   "language": "python",
   "name": "python3"
  },
  "language_info": {
   "codemirror_mode": {
    "name": "ipython",
    "version": 3
   },
   "file_extension": ".py",
   "mimetype": "text/x-python",
   "name": "python",
   "nbconvert_exporter": "python",
   "pygments_lexer": "ipython3",
   "version": "3.11.5"
  }
 },
 "nbformat": 4,
 "nbformat_minor": 2
}
