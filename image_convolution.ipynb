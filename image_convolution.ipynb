{
 "cells": [
  {
   "cell_type": "code",
   "execution_count": 1,
   "metadata": {},
   "outputs": [],
   "source": [
    "import cv2 as cv\n",
    "import numpy as np"
   ]
  },
  {
   "cell_type": "code",
   "execution_count": 2,
   "metadata": {},
   "outputs": [],
   "source": [
    "def  convolution(img, kernel):\n",
    "  row = img.shape[0] - len(kernel) + 1\n",
    "  col = img.shape[1] - len(kernel[0]) + 1\n",
    "  filtered_img = np.zeros(shape = (row, col))\n",
    "  for i in range (row):\n",
    "    for j in range(col):\n",
    "      current = img[i : i + len(kernel), j : j + len(kernel[0])]\n",
    "      multiplication = np.sum(current * kernel)\n",
    "      filtered_img[i, j] = multiplication\n",
    "  return filtered_img"
   ]
  },
  {
   "cell_type": "code",
   "execution_count": 3,
   "metadata": {},
   "outputs": [
    {
     "name": "stdout",
     "output_type": "stream",
     "text": [
      "[[-1728. -1728. -1728. ... -1152. -1152. -1152.]\n",
      " [-1731. -1731. -1731. ... -1155. -1155. -1155.]\n",
      " [-1733. -1733. -1733. ... -1157. -1157. -1157.]\n",
      " ...\n",
      " [-1401. -1381. -1360. ...  -412.  -414.  -415.]\n",
      " [-1352. -1333. -1313. ...  -392.  -396.  -398.]\n",
      " [-1300. -1281. -1263. ...  -378.  -383.  -388.]]\n"
     ]
    }
   ],
   "source": [
    "\n",
    "img = cv.imread(\"images/0b7fabe7ec7df752e59ca8c019bae095_hd-964005064.jpg\")\n",
    "gray_img = cv.cvtColor(img, cv.COLOR_BGR2GRAY)\n",
    "kernel = [[-1,-1,-1], [-1,0,-1],[-1,-1,-1]]\n",
    "\n",
    "filtered_img = convolution(gray_img, kernel)\n",
    "cv.imshow(\"original img\", img)\n",
    "cv.imshow(\"Gray img\", gray_img)\n",
    "cv.imshow(\"filtered img\", filtered_img)\n",
    "print(filtered_img)\n",
    "cv.waitKey(0)\n"
   ]
  }
 ],
 "metadata": {
  "kernelspec": {
   "display_name": "base",
   "language": "python",
   "name": "python3"
  },
  "language_info": {
   "codemirror_mode": {
    "name": "ipython",
    "version": 3
   },
   "file_extension": ".py",
   "mimetype": "text/x-python",
   "name": "python",
   "nbconvert_exporter": "python",
   "pygments_lexer": "ipython3",
   "version": "3.11.5"
  }
 },
 "nbformat": 4,
 "nbformat_minor": 2
}
